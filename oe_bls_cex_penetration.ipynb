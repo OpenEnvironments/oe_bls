{
 "cells": [
  {
   "cell_type": "code",
   "execution_count": null,
   "id": "6761da43",
   "metadata": {},
   "outputs": [],
   "source": [
    "#! /usr/bin/env python\n",
    "# -*- coding: utf-8 -*-\n",
    "\"\"\"\n",
    "# oe_bls_cex_penetration\n",
    "\"\"\"\n",
    "\n",
    "import pandas as pd\n",
    "import numpy as np\n",
    "from datetime import datetime\n",
    "import wget\n",
    "import zipfile\n",
    "import os\n",
    "import warnings\n",
    "warnings.simplefilter(\"ignore\")\n",
    "\n",
    "def oe_bls_cex_penetration(df, year):\n",
    "    \"\"\"\n",
    "    This function trains a penetration model and saves it a pickle file.\n",
    "    \"\"\"\n",
    "    print(\"Training\")\n",
    "    return None\n",
    "\n",
    "if __name__ == \"__main__\":\n",
    "   \n",
    "        \n",
    "    print(\"Done\")"
   ]
  },
  {
   "cell_type": "code",
   "execution_count": null,
   "id": "26d72a12",
   "metadata": {},
   "outputs": [],
   "source": []
  }
 ],
 "metadata": {
  "kernelspec": {
   "display_name": "machinelearning",
   "language": "python",
   "name": "machinelearning"
  },
  "language_info": {
   "codemirror_mode": {
    "name": "ipython",
    "version": 3
   },
   "file_extension": ".py",
   "mimetype": "text/x-python",
   "name": "python",
   "nbconvert_exporter": "python",
   "pygments_lexer": "ipython3",
   "version": "3.9.13"
  }
 },
 "nbformat": 4,
 "nbformat_minor": 5
}
